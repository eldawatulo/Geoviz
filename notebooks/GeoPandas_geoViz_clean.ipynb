# GeoPandas Project — Geospatial Visualization

## Motivation
This project demonstrates geospatial data visualization using GeoPandas. 
The goal is to explore regional patterns, such as population distribution, area, and other metrics.

## Data Sources
- Shapefiles: `data/raw/regions.shp`  
- Attributes: population, area, etc.
